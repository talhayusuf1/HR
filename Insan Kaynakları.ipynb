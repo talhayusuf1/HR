{
 "cells": [
  {
   "cell_type": "code",
   "execution_count": 76,
   "id": "d72e0fa5",
   "metadata": {},
   "outputs": [],
   "source": [
    "import numpy as np\n",
    "import pandas as pd\n",
    "from sklearn import tree\n",
    "df = pd.read_csv(\"DecisionTreesClassificationDataSet.csv\")"
   ]
  },
  {
   "cell_type": "code",
   "execution_count": 77,
   "id": "f9d78e1e",
   "metadata": {},
   "outputs": [
    {
     "data": {
      "text/html": [
       "<div>\n",
       "<style scoped>\n",
       "    .dataframe tbody tr th:only-of-type {\n",
       "        vertical-align: middle;\n",
       "    }\n",
       "\n",
       "    .dataframe tbody tr th {\n",
       "        vertical-align: top;\n",
       "    }\n",
       "\n",
       "    .dataframe thead th {\n",
       "        text-align: right;\n",
       "    }\n",
       "</style>\n",
       "<table border=\"1\" class=\"dataframe\">\n",
       "  <thead>\n",
       "    <tr style=\"text-align: right;\">\n",
       "      <th></th>\n",
       "      <th>Deneyim Yili</th>\n",
       "      <th>SuanCalisiyor?</th>\n",
       "      <th>EskiCalistigiFirmalar</th>\n",
       "      <th>EgitimSeviyesi</th>\n",
       "      <th>Top10Universite?</th>\n",
       "      <th>StajBizdeYaptimi?</th>\n",
       "      <th>IseAlindi</th>\n",
       "    </tr>\n",
       "  </thead>\n",
       "  <tbody>\n",
       "    <tr>\n",
       "      <th>0</th>\n",
       "      <td>11</td>\n",
       "      <td>Y</td>\n",
       "      <td>4</td>\n",
       "      <td>BS</td>\n",
       "      <td>N</td>\n",
       "      <td>N</td>\n",
       "      <td>Y</td>\n",
       "    </tr>\n",
       "    <tr>\n",
       "      <th>1</th>\n",
       "      <td>0</td>\n",
       "      <td>N</td>\n",
       "      <td>0</td>\n",
       "      <td>PhD</td>\n",
       "      <td>Y</td>\n",
       "      <td>Y</td>\n",
       "      <td>Y</td>\n",
       "    </tr>\n",
       "    <tr>\n",
       "      <th>2</th>\n",
       "      <td>5</td>\n",
       "      <td>Y</td>\n",
       "      <td>2</td>\n",
       "      <td>MS</td>\n",
       "      <td>N</td>\n",
       "      <td>Y</td>\n",
       "      <td>Y</td>\n",
       "    </tr>\n",
       "    <tr>\n",
       "      <th>3</th>\n",
       "      <td>3</td>\n",
       "      <td>N</td>\n",
       "      <td>1</td>\n",
       "      <td>BS</td>\n",
       "      <td>N</td>\n",
       "      <td>Y</td>\n",
       "      <td>Y</td>\n",
       "    </tr>\n",
       "    <tr>\n",
       "      <th>4</th>\n",
       "      <td>0</td>\n",
       "      <td>N</td>\n",
       "      <td>0</td>\n",
       "      <td>BS</td>\n",
       "      <td>N</td>\n",
       "      <td>N</td>\n",
       "      <td>N</td>\n",
       "    </tr>\n",
       "  </tbody>\n",
       "</table>\n",
       "</div>"
      ],
      "text/plain": [
       "   Deneyim Yili SuanCalisiyor?  EskiCalistigiFirmalar EgitimSeviyesi  \\\n",
       "0            11              Y                      4             BS   \n",
       "1             0              N                      0            PhD   \n",
       "2             5              Y                      2             MS   \n",
       "3             3              N                      1             BS   \n",
       "4             0              N                      0             BS   \n",
       "\n",
       "  Top10Universite? StajBizdeYaptimi? IseAlindi  \n",
       "0                N                 N         Y  \n",
       "1                Y                 Y         Y  \n",
       "2                N                 Y         Y  \n",
       "3                N                 Y         Y  \n",
       "4                N                 N         N  "
      ]
     },
     "execution_count": 77,
     "metadata": {},
     "output_type": "execute_result"
    }
   ],
   "source": [
    "df.head()"
   ]
  },
  {
   "cell_type": "markdown",
   "id": "ef285509",
   "metadata": {},
   "source": [
    "Sci-kit kutuphanesi rakamsal bir ifade beklediği için Y ve N leri değiştirmemiz gerekiyor buyüzden 0 ve 1 ile desğiştiriyoruz.\n",
    "Aynı şekilde eğitim seviyesinde ise BS=0, MS=1, PhD=2 olarak guncelliyoruz.\n"
   ]
  },
  {
   "cell_type": "code",
   "execution_count": 78,
   "id": "522403ab",
   "metadata": {},
   "outputs": [
    {
     "data": {
      "text/html": [
       "<div>\n",
       "<style scoped>\n",
       "    .dataframe tbody tr th:only-of-type {\n",
       "        vertical-align: middle;\n",
       "    }\n",
       "\n",
       "    .dataframe tbody tr th {\n",
       "        vertical-align: top;\n",
       "    }\n",
       "\n",
       "    .dataframe thead th {\n",
       "        text-align: right;\n",
       "    }\n",
       "</style>\n",
       "<table border=\"1\" class=\"dataframe\">\n",
       "  <thead>\n",
       "    <tr style=\"text-align: right;\">\n",
       "      <th></th>\n",
       "      <th>Deneyim Yili</th>\n",
       "      <th>SuanCalisiyor?</th>\n",
       "      <th>EskiCalistigiFirmalar</th>\n",
       "      <th>EgitimSeviyesi</th>\n",
       "      <th>Top10Universite?</th>\n",
       "      <th>StajBizdeYaptimi?</th>\n",
       "      <th>IseAlindi</th>\n",
       "    </tr>\n",
       "  </thead>\n",
       "  <tbody>\n",
       "    <tr>\n",
       "      <th>0</th>\n",
       "      <td>11</td>\n",
       "      <td>1</td>\n",
       "      <td>4</td>\n",
       "      <td>0</td>\n",
       "      <td>0</td>\n",
       "      <td>0</td>\n",
       "      <td>1</td>\n",
       "    </tr>\n",
       "    <tr>\n",
       "      <th>1</th>\n",
       "      <td>0</td>\n",
       "      <td>0</td>\n",
       "      <td>0</td>\n",
       "      <td>2</td>\n",
       "      <td>1</td>\n",
       "      <td>1</td>\n",
       "      <td>1</td>\n",
       "    </tr>\n",
       "    <tr>\n",
       "      <th>2</th>\n",
       "      <td>5</td>\n",
       "      <td>1</td>\n",
       "      <td>2</td>\n",
       "      <td>1</td>\n",
       "      <td>0</td>\n",
       "      <td>1</td>\n",
       "      <td>1</td>\n",
       "    </tr>\n",
       "    <tr>\n",
       "      <th>3</th>\n",
       "      <td>3</td>\n",
       "      <td>0</td>\n",
       "      <td>1</td>\n",
       "      <td>0</td>\n",
       "      <td>0</td>\n",
       "      <td>1</td>\n",
       "      <td>1</td>\n",
       "    </tr>\n",
       "    <tr>\n",
       "      <th>4</th>\n",
       "      <td>0</td>\n",
       "      <td>0</td>\n",
       "      <td>0</td>\n",
       "      <td>0</td>\n",
       "      <td>0</td>\n",
       "      <td>0</td>\n",
       "      <td>0</td>\n",
       "    </tr>\n",
       "  </tbody>\n",
       "</table>\n",
       "</div>"
      ],
      "text/plain": [
       "   Deneyim Yili  SuanCalisiyor?  EskiCalistigiFirmalar  EgitimSeviyesi  \\\n",
       "0            11               1                      4               0   \n",
       "1             0               0                      0               2   \n",
       "2             5               1                      2               1   \n",
       "3             3               0                      1               0   \n",
       "4             0               0                      0               0   \n",
       "\n",
       "   Top10Universite?  StajBizdeYaptimi?  IseAlindi  \n",
       "0                 0                  0          1  \n",
       "1                 1                  1          1  \n",
       "2                 0                  1          1  \n",
       "3                 0                  1          1  \n",
       "4                 0                  0          0  "
      ]
     },
     "execution_count": 78,
     "metadata": {},
     "output_type": "execute_result"
    }
   ],
   "source": [
    "correction_mapping = {'Y':1, 'N':0}\n",
    "\n",
    "df['IseAlindi'] = df['IseAlindi'].map(correction_mapping)\n",
    "df['SuanCalisiyor?'] = df['SuanCalisiyor?'].map(correction_mapping)\n",
    "df['Top10Universite?'] = df['Top10Universite?'].map(correction_mapping)\n",
    "df['StajBizdeYaptimi?'] = df['StajBizdeYaptimi?'].map(correction_mapping)\n",
    "\n",
    "correction_mapping_train = {'BS':0, 'MS':1, 'PhD':2}\n",
    "df['EgitimSeviyesi'] = df['EgitimSeviyesi'].map(correction_mapping_train)\n",
    "\n",
    "df.head()"
   ]
  },
  {
   "cell_type": "code",
   "execution_count": 79,
   "id": "ad284a62",
   "metadata": {},
   "outputs": [],
   "source": [
    "y = df['IseAlindi'] # Sonuc kısmı\n",
    "X = df.drop(['IseAlindi'], axis=1) # Girilen parametreler"
   ]
  },
  {
   "cell_type": "markdown",
   "id": "7cb6a371",
   "metadata": {},
   "source": [
    "Decision Tree'mizi oluşturuyoruz:"
   ]
  },
  {
   "cell_type": "code",
   "execution_count": 80,
   "id": "6f4892b0",
   "metadata": {},
   "outputs": [],
   "source": [
    "clf = tree.DecisionTreeClassifier()\n",
    "clf = clf.fit(X,y);"
   ]
  },
  {
   "cell_type": "code",
   "execution_count": 81,
   "id": "9af779f5",
   "metadata": {},
   "outputs": [
    {
     "name": "stdout",
     "output_type": "stream",
     "text": [
      "[1]\n"
     ]
    },
    {
     "name": "stderr",
     "output_type": "stream",
     "text": [
      "C:\\Users\\Talha\\anaconda3\\Lib\\site-packages\\sklearn\\base.py:439: UserWarning: X does not have valid feature names, but DecisionTreeClassifier was fitted with feature names\n",
      "  warnings.warn(\n"
     ]
    }
   ],
   "source": [
    "#Bu kısımda tahmin yapacağız örneğin;\n",
    "#5 yıl deneyim, halihazırda biryerde çalışan ve 3 eski şirkette çalışmış olan,\n",
    "#eğitim seviyesi Lisans, top tier school mezunu değil\n",
    "print(clf.predict([[5, 1, 3, 0, 0, 0]]))"
   ]
  },
  {
   "cell_type": "code",
   "execution_count": 82,
   "id": "50a33e97",
   "metadata": {},
   "outputs": [
    {
     "name": "stdout",
     "output_type": "stream",
     "text": [
      "[0]\n"
     ]
    },
    {
     "name": "stderr",
     "output_type": "stream",
     "text": [
      "C:\\Users\\Talha\\anaconda3\\Lib\\site-packages\\sklearn\\base.py:439: UserWarning: X does not have valid feature names, but DecisionTreeClassifier was fitted with feature names\n",
      "  warnings.warn(\n"
     ]
    }
   ],
   "source": [
    "#Toplamda 2 yıllık iş deneyimi, 7 kez iş değiştirmiş çok iyi bir okul mezunu şuan çalışmıyor\n",
    "print(clf.predict([[2, 0, 7, 0, 1, 0]]))"
   ]
  },
  {
   "cell_type": "code",
   "execution_count": 83,
   "id": "a14354e6",
   "metadata": {},
   "outputs": [
    {
     "name": "stdout",
     "output_type": "stream",
     "text": [
      "[1]\n"
     ]
    },
    {
     "name": "stderr",
     "output_type": "stream",
     "text": [
      "C:\\Users\\Talha\\anaconda3\\Lib\\site-packages\\sklearn\\base.py:439: UserWarning: X does not have valid feature names, but DecisionTreeClassifier was fitted with feature names\n",
      "  warnings.warn(\n"
     ]
    }
   ],
   "source": [
    "#Toplam 2 yıllık iş deneyimi, 7 kez iş değitirmiş çok iyi bir okul mezunu değil şuan çalışıyor\n",
    "print(clf.predict([[2, 1, 7, 0, 0, 0]]))"
   ]
  }
 ],
 "metadata": {
  "kernelspec": {
   "display_name": "Python 3 (ipykernel)",
   "language": "python",
   "name": "python3"
  },
  "language_info": {
   "codemirror_mode": {
    "name": "ipython",
    "version": 3
   },
   "file_extension": ".py",
   "mimetype": "text/x-python",
   "name": "python",
   "nbconvert_exporter": "python",
   "pygments_lexer": "ipython3",
   "version": "3.11.3"
  }
 },
 "nbformat": 4,
 "nbformat_minor": 5
}
